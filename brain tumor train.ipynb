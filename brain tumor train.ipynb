{
 "cells": [
  {
   "cell_type": "code",
   "execution_count": 3,
   "metadata": {},
   "outputs": [],
   "source": [
    "from keras.models import Sequential\n",
    "from keras.layers import Dense\n",
    "from keras.layers import Convolution2D\n",
    "from keras.layers import MaxPooling2D\n",
    "from keras.layers import Flatten\n",
    "%matplotlib inline"
   ]
  },
  {
   "cell_type": "code",
   "execution_count": 4,
   "metadata": {},
   "outputs": [],
   "source": [
    "model = Sequential()"
   ]
  },
  {
   "cell_type": "code",
   "execution_count": 5,
   "metadata": {},
   "outputs": [],
   "source": [
    "#convolution layer\n",
    "model.add(Convolution2D(32,(3,3),input_shape=(64,64,3),activation='relu'))"
   ]
  },
  {
   "cell_type": "code",
   "execution_count": 6,
   "metadata": {},
   "outputs": [
    {
     "name": "stdout",
     "output_type": "stream",
     "text": [
      "WARNING:tensorflow:From C:\\ProgramData\\Anaconda3\\lib\\site-packages\\keras\\backend\\tensorflow_backend.py:4070: The name tf.nn.max_pool is deprecated. Please use tf.nn.max_pool2d instead.\n",
      "\n"
     ]
    }
   ],
   "source": [
    "#pooling layer\n",
    "model.add(MaxPooling2D(pool_size=(2,2)))"
   ]
  },
  {
   "cell_type": "code",
   "execution_count": 7,
   "metadata": {},
   "outputs": [],
   "source": [
    "model.add(Flatten()) #input layer in CNN"
   ]
  },
  {
   "cell_type": "code",
   "execution_count": 8,
   "metadata": {},
   "outputs": [
    {
     "name": "stderr",
     "output_type": "stream",
     "text": [
      "C:\\ProgramData\\Anaconda3\\lib\\site-packages\\ipykernel_launcher.py:2: UserWarning: Update your `Dense` call to the Keras 2 API: `Dense(units=128, activation=\"relu\", kernel_initializer=\"uniform\")`\n",
      "  \n"
     ]
    }
   ],
   "source": [
    "#hidden layer\n",
    "model.add(Dense(units=128,init='uniform',activation='relu'))"
   ]
  },
  {
   "cell_type": "code",
   "execution_count": 9,
   "metadata": {},
   "outputs": [
    {
     "name": "stderr",
     "output_type": "stream",
     "text": [
      "C:\\ProgramData\\Anaconda3\\lib\\site-packages\\ipykernel_launcher.py:1: UserWarning: Update your `Dense` call to the Keras 2 API: `Dense(units=1, activation=\"sigmoid\", kernel_initializer=\"uniform\")`\n",
      "  \"\"\"Entry point for launching an IPython kernel.\n"
     ]
    }
   ],
   "source": [
    "model.add(Dense(units=1,init='uniform',activation='sigmoid'))"
   ]
  },
  {
   "cell_type": "code",
   "execution_count": 10,
   "metadata": {},
   "outputs": [
    {
     "name": "stdout",
     "output_type": "stream",
     "text": [
      "WARNING:tensorflow:From C:\\ProgramData\\Anaconda3\\lib\\site-packages\\tensorflow\\python\\ops\\nn_impl.py:180: add_dispatch_support.<locals>.wrapper (from tensorflow.python.ops.array_ops) is deprecated and will be removed in a future version.\n",
      "Instructions for updating:\n",
      "Use tf.where in 2.0, which has the same broadcast rule as np.where\n"
     ]
    }
   ],
   "source": [
    "model.compile(loss='binary_crossentropy',optimizer='adam',metrics=['acc'])"
   ]
  },
  {
   "cell_type": "code",
   "execution_count": 11,
   "metadata": {},
   "outputs": [],
   "source": [
    "from keras.preprocessing.image import ImageDataGenerator\n",
    "train_datagen = ImageDataGenerator(rescale = 1./255,shear_range=0.2,zoom_range=0.2,horizontal_flip=True)\n",
    "test_datagen = ImageDataGenerator(rescale = 1./255)"
   ]
  },
  {
   "cell_type": "code",
   "execution_count": 16,
   "metadata": {},
   "outputs": [
    {
     "name": "stdout",
     "output_type": "stream",
     "text": [
      "{'no': 0, 'yes': 1}\n"
     ]
    }
   ],
   "source": [
    "print(x_train.class_indices)"
   ]
  },
  {
   "cell_type": "code",
   "execution_count": 12,
   "metadata": {},
   "outputs": [
    {
     "name": "stdout",
     "output_type": "stream",
     "text": [
      "Found 189 images belonging to 2 classes.\n",
      "Found 64 images belonging to 2 classes.\n"
     ]
    }
   ],
   "source": [
    "x_train = train_datagen.flow_from_directory(r'C:\\Users\\Sarthak\\Desktop\\project 2\\Brain tumor detection from MRI images\\train',target_size=(64,64),batch_size=32,class_mode='binary')\n",
    "x_test = test_datagen.flow_from_directory(r'C:\\Users\\Sarthak\\Desktop\\project 2\\Brain tumor detection from MRI images\\test',target_size=(64,64),batch_size=32,class_mode='binary')"
   ]
  },
  {
   "cell_type": "code",
   "execution_count": 13,
   "metadata": {},
   "outputs": [
    {
     "name": "stdout",
     "output_type": "stream",
     "text": [
      "WARNING:tensorflow:From C:\\ProgramData\\Anaconda3\\lib\\site-packages\\keras\\backend\\tensorflow_backend.py:422: The name tf.global_variables is deprecated. Please use tf.compat.v1.global_variables instead.\n",
      "\n",
      "Epoch 1/50\n",
      "10/10 [==============================] - 4s 402ms/step - loss: 0.6691 - acc: 0.6178 - val_loss: 0.5612 - val_acc: 0.6562\n",
      "Epoch 2/50\n",
      "10/10 [==============================] - 2s 222ms/step - loss: 0.6076 - acc: 0.6814 - val_loss: 0.5734 - val_acc: 0.7500\n",
      "Epoch 3/50\n",
      "10/10 [==============================] - 2s 231ms/step - loss: 0.5749 - acc: 0.7229 - val_loss: 0.5736 - val_acc: 0.8333\n",
      "Epoch 4/50\n",
      "10/10 [==============================] - 2s 214ms/step - loss: 0.5553 - acc: 0.7166 - val_loss: 0.4409 - val_acc: 0.8854\n",
      "Epoch 5/50\n",
      "10/10 [==============================] - 2s 199ms/step - loss: 0.4892 - acc: 0.7707 - val_loss: 0.4831 - val_acc: 0.8333\n",
      "Epoch 6/50\n",
      "10/10 [==============================] - 2s 232ms/step - loss: 0.5490 - acc: 0.7382 - val_loss: 0.5322 - val_acc: 0.8021\n",
      "Epoch 7/50\n",
      "10/10 [==============================] - 2s 201ms/step - loss: 0.4908 - acc: 0.7771 - val_loss: 0.5127 - val_acc: 0.7604\n",
      "Epoch 8/50\n",
      "10/10 [==============================] - 2s 204ms/step - loss: 0.4153 - acc: 0.8202 - val_loss: 0.4683 - val_acc: 0.8021\n",
      "Epoch 9/50\n",
      "10/10 [==============================] - 2s 211ms/step - loss: 0.4804 - acc: 0.7771 - val_loss: 0.5322 - val_acc: 0.7396\n",
      "Epoch 10/50\n",
      "10/10 [==============================] - 2s 222ms/step - loss: 0.3982 - acc: 0.8265 - val_loss: 0.3483 - val_acc: 0.8229\n",
      "Epoch 11/50\n",
      "10/10 [==============================] - 2s 217ms/step - loss: 0.3801 - acc: 0.8408 - val_loss: 0.3129 - val_acc: 0.8438\n",
      "Epoch 12/50\n",
      "10/10 [==============================] - 2s 202ms/step - loss: 0.3799 - acc: 0.8153 - val_loss: 0.4849 - val_acc: 0.7604\n",
      "Epoch 13/50\n",
      "10/10 [==============================] - 2s 209ms/step - loss: 0.3639 - acc: 0.8549 - val_loss: 0.4282 - val_acc: 0.7604\n",
      "Epoch 14/50\n",
      "10/10 [==============================] - 2s 243ms/step - loss: 0.3606 - acc: 0.8471 - val_loss: 0.6045 - val_acc: 0.7292\n",
      "Epoch 15/50\n",
      "10/10 [==============================] - 2s 194ms/step - loss: 0.3503 - acc: 0.8503 - val_loss: 0.5281 - val_acc: 0.7812\n",
      "Epoch 16/50\n",
      "10/10 [==============================] - 2s 209ms/step - loss: 0.3312 - acc: 0.8567 - val_loss: 0.4749 - val_acc: 0.7917\n",
      "Epoch 17/50\n",
      "10/10 [==============================] - 2s 193ms/step - loss: 0.3093 - acc: 0.8726 - val_loss: 0.6619 - val_acc: 0.7917\n",
      "Epoch 18/50\n",
      "10/10 [==============================] - 2s 212ms/step - loss: 0.3178 - acc: 0.8675 - val_loss: 0.8164 - val_acc: 0.7812\n",
      "Epoch 19/50\n",
      "10/10 [==============================] - 2s 198ms/step - loss: 0.3339 - acc: 0.8790 - val_loss: 0.5450 - val_acc: 0.8333\n",
      "Epoch 20/50\n",
      "10/10 [==============================] - 2s 223ms/step - loss: 0.2974 - acc: 0.8927 - val_loss: 0.5303 - val_acc: 0.7917\n",
      "Epoch 21/50\n",
      "10/10 [==============================] - 2s 229ms/step - loss: 0.2707 - acc: 0.8917 - val_loss: 0.4800 - val_acc: 0.7708\n",
      "Epoch 22/50\n",
      "10/10 [==============================] - 2s 206ms/step - loss: 0.2677 - acc: 0.8885 - val_loss: 0.6380 - val_acc: 0.7917\n",
      "Epoch 23/50\n",
      "10/10 [==============================] - 2s 210ms/step - loss: 0.2527 - acc: 0.9045 - val_loss: 0.5599 - val_acc: 0.7708\n",
      "Epoch 24/50\n",
      "10/10 [==============================] - 2s 201ms/step - loss: 0.3053 - acc: 0.8612 - val_loss: 0.4557 - val_acc: 0.8125\n",
      "Epoch 25/50\n",
      "10/10 [==============================] - 2s 204ms/step - loss: 0.2492 - acc: 0.9108 - val_loss: 0.4338 - val_acc: 0.7812\n",
      "Epoch 26/50\n",
      "10/10 [==============================] - 2s 207ms/step - loss: 0.2740 - acc: 0.8896 - val_loss: 0.6096 - val_acc: 0.7396\n",
      "Epoch 27/50\n",
      "10/10 [==============================] - 2s 206ms/step - loss: 0.2329 - acc: 0.8949 - val_loss: 0.4924 - val_acc: 0.8021\n",
      "Epoch 28/50\n",
      "10/10 [==============================] - 2s 227ms/step - loss: 0.2735 - acc: 0.8885 - val_loss: 0.5529 - val_acc: 0.7500\n",
      "Epoch 29/50\n",
      "10/10 [==============================] - 3s 285ms/step - loss: 0.2391 - acc: 0.9148 - val_loss: 0.5697 - val_acc: 0.7604\n",
      "Epoch 30/50\n",
      "10/10 [==============================] - 2s 213ms/step - loss: 0.2378 - acc: 0.9172 - val_loss: 0.4262 - val_acc: 0.7917\n",
      "Epoch 31/50\n",
      "10/10 [==============================] - 2s 199ms/step - loss: 0.2118 - acc: 0.9140 - val_loss: 0.5415 - val_acc: 0.7604\n",
      "Epoch 32/50\n",
      "10/10 [==============================] - 2s 213ms/step - loss: 0.2172 - acc: 0.9243 - val_loss: 0.8397 - val_acc: 0.7604\n",
      "Epoch 33/50\n",
      "10/10 [==============================] - 2s 189ms/step - loss: 0.2351 - acc: 0.9236 - val_loss: 0.6056 - val_acc: 0.8229\n",
      "Epoch 34/50\n",
      "10/10 [==============================] - 2s 208ms/step - loss: 0.2021 - acc: 0.9299 - val_loss: 0.3198 - val_acc: 0.8125\n",
      "Epoch 35/50\n",
      "10/10 [==============================] - 2s 196ms/step - loss: 0.2214 - acc: 0.9148 - val_loss: 0.6450 - val_acc: 0.8021\n",
      "Epoch 36/50\n",
      "10/10 [==============================] - 2s 239ms/step - loss: 0.1616 - acc: 0.9427 - val_loss: 0.6862 - val_acc: 0.8125\n",
      "Epoch 37/50\n",
      "10/10 [==============================] - 2s 203ms/step - loss: 0.1928 - acc: 0.9395 - val_loss: 0.3786 - val_acc: 0.8438\n",
      "Epoch 38/50\n",
      "10/10 [==============================] - 2s 212ms/step - loss: 0.1534 - acc: 0.9495 - val_loss: 0.5644 - val_acc: 0.8021\n",
      "Epoch 39/50\n",
      "10/10 [==============================] - 2s 229ms/step - loss: 0.1736 - acc: 0.9395 - val_loss: 0.9633 - val_acc: 0.8125\n",
      "Epoch 40/50\n",
      "10/10 [==============================] - 2s 202ms/step - loss: 0.1656 - acc: 0.9490 - val_loss: 0.3844 - val_acc: 0.8438\n",
      "Epoch 41/50\n",
      "10/10 [==============================] - 2s 195ms/step - loss: 0.1792 - acc: 0.9331 - val_loss: 0.4706 - val_acc: 0.8229\n",
      "Epoch 42/50\n",
      "10/10 [==============================] - 2s 226ms/step - loss: 0.1209 - acc: 0.9621 - val_loss: 0.6028 - val_acc: 0.8021\n",
      "Epoch 43/50\n",
      "10/10 [==============================] - 2s 232ms/step - loss: 0.1699 - acc: 0.9427 - val_loss: 0.7792 - val_acc: 0.7708\n",
      "Epoch 44/50\n",
      "10/10 [==============================] - 2s 234ms/step - loss: 0.1959 - acc: 0.9140 - val_loss: 0.6051 - val_acc: 0.8021\n",
      "Epoch 45/50\n",
      "10/10 [==============================] - 2s 205ms/step - loss: 0.1579 - acc: 0.9495 - val_loss: 0.8900 - val_acc: 0.7708\n",
      "Epoch 46/50\n",
      "10/10 [==============================] - 2s 206ms/step - loss: 0.1368 - acc: 0.9459 - val_loss: 0.4637 - val_acc: 0.8438\n",
      "Epoch 47/50\n",
      "10/10 [==============================] - 2s 204ms/step - loss: 0.1361 - acc: 0.9299 - val_loss: 0.5484 - val_acc: 0.8021\n",
      "Epoch 48/50\n",
      "10/10 [==============================] - 2s 217ms/step - loss: 0.1104 - acc: 0.9527 - val_loss: 0.5562 - val_acc: 0.8125\n",
      "Epoch 49/50\n",
      "10/10 [==============================] - 2s 195ms/step - loss: 0.0986 - acc: 0.9745 - val_loss: 0.7602 - val_acc: 0.8229\n",
      "Epoch 50/50\n",
      "10/10 [==============================] - 2s 231ms/step - loss: 0.1216 - acc: 0.9590 - val_loss: 1.0005 - val_acc: 0.8438\n"
     ]
    },
    {
     "data": {
      "text/plain": [
       "<keras.callbacks.callbacks.History at 0x149008114a8>"
      ]
     },
     "execution_count": 13,
     "metadata": {},
     "output_type": "execute_result"
    }
   ],
   "source": [
    "model.fit(x_train,steps_per_epoch=10,epochs=50,validation_data=x_test,validation_steps=3)"
   ]
  },
  {
   "cell_type": "code",
   "execution_count": 14,
   "metadata": {},
   "outputs": [],
   "source": [
    "model.save(\"body.h5\")"
   ]
  },
  {
   "cell_type": "code",
   "execution_count": null,
   "metadata": {},
   "outputs": [],
   "source": []
  },
  {
   "cell_type": "code",
   "execution_count": null,
   "metadata": {},
   "outputs": [],
   "source": []
  },
  {
   "cell_type": "code",
   "execution_count": null,
   "metadata": {},
   "outputs": [],
   "source": []
  }
 ],
 "metadata": {
  "kernelspec": {
   "display_name": "Python 3",
   "language": "python",
   "name": "python3"
  },
  "language_info": {
   "codemirror_mode": {
    "name": "ipython",
    "version": 3
   },
   "file_extension": ".py",
   "mimetype": "text/x-python",
   "name": "python",
   "nbconvert_exporter": "python",
   "pygments_lexer": "ipython3",
   "version": "3.7.3"
  }
 },
 "nbformat": 4,
 "nbformat_minor": 2
}
